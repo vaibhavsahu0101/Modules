{
 "cells": [
  {
   "cell_type": "code",
   "execution_count": 1,
   "metadata": {},
   "outputs": [],
   "source": [
    "import cv2\n",
    "import os, os.path\n",
    "import numpy as np\n",
    "import image_preprocessing as ip\n",
    "from models import unet\n",
    "import tensorflow as tf\n",
    "from sklearn.model_selection import train_test_split\n",
    "from tensorflow.keras import models\n",
    "from tensorflow.keras.optimizers import * \n",
    "from tensorflow.keras.callbacks import ModelCheckpoint, LearningRateScheduler\n",
    "from tensorflow.keras.metrics import MeanIoU"
   ]
  },
  {
   "cell_type": "code",
   "execution_count": 2,
   "metadata": {},
   "outputs": [],
   "source": [
    "#Define data structure "
   ]
  },
  {
   "cell_type": "code",
   "execution_count": 3,
   "metadata": {},
   "outputs": [],
   "source": [
    "#taking training directory path as user input\n",
    "#train_dir= input(\"Enter training directory path:\")"
   ]
  },
  {
   "cell_type": "code",
   "execution_count": 40,
   "metadata": {},
   "outputs": [
    {
     "name": "stdout",
     "output_type": "stream",
     "text": [
      "C:\\Users\\Administrateur\\Desktop\\showdown\\data\\train\\images\\\n",
      "C:\\Users\\Administrateur\\Desktop\\showdown\\data\\train\\masks\\\n"
     ]
    }
   ],
   "source": [
    "# Define the image directory path\n",
    "#train_image_dir= train_dir + \"images\\\\\"\n",
    "train_image_dir= \"C:\\\\Users\\\\Administrateur\\\\Desktop\\\\showdown\\\\data\\\\train\\\\images\\\\\"\n",
    "\n",
    "print(train_image_dir)\n",
    "#train_masks_dir= train_dir + \"masks\\\\\"\n",
    "train_masks_dir= \"C:\\\\Users\\\\Administrateur\\\\Desktop\\\\showdown\\\\data\\\\train\\\\masks\\\\\"\n",
    "\n",
    "print(train_masks_dir)"
   ]
  },
  {
   "cell_type": "code",
   "execution_count": 41,
   "metadata": {},
   "outputs": [],
   "source": [
    "image_path_list=[]\n",
    "mask_path_list=[]\n",
    "valid_image_extensions = [\".jpg\",\".jpeg\",\".png\",\".tif\",\".tiff\"]\n",
    "valid_image_extensions = [item.lower() for item in valid_image_extensions]"
   ]
  },
  {
   "cell_type": "code",
   "execution_count": 42,
   "metadata": {},
   "outputs": [],
   "source": [
    "if not os.path.isdir(train_image_dir):\n",
    "    quit(\"The directory {} don't exist !\".format(train_image_dir))\n",
    "if not os.path.isdir(train_masks_dir):\n",
    "    quit(\"The directory {} don't exist !\".format(train_masks_dir))"
   ]
  },
  {
   "cell_type": "code",
   "execution_count": 43,
   "metadata": {},
   "outputs": [
    {
     "name": "stdout",
     "output_type": "stream",
     "text": [
      "['C:\\\\Users\\\\Administrateur\\\\Desktop\\\\showdown\\\\data\\\\train\\\\images\\\\00001.tif', 'C:\\\\Users\\\\Administrateur\\\\Desktop\\\\showdown\\\\data\\\\train\\\\images\\\\00002.tif', 'C:\\\\Users\\\\Administrateur\\\\Desktop\\\\showdown\\\\data\\\\train\\\\images\\\\00003.tif', 'C:\\\\Users\\\\Administrateur\\\\Desktop\\\\showdown\\\\data\\\\train\\\\images\\\\00006.tif', 'C:\\\\Users\\\\Administrateur\\\\Desktop\\\\showdown\\\\data\\\\train\\\\images\\\\00008.tif', 'C:\\\\Users\\\\Administrateur\\\\Desktop\\\\showdown\\\\data\\\\train\\\\images\\\\00011.tif', 'C:\\\\Users\\\\Administrateur\\\\Desktop\\\\showdown\\\\data\\\\train\\\\images\\\\00012.tif', 'C:\\\\Users\\\\Administrateur\\\\Desktop\\\\showdown\\\\data\\\\train\\\\images\\\\00013.tif', 'C:\\\\Users\\\\Administrateur\\\\Desktop\\\\showdown\\\\data\\\\train\\\\images\\\\00015.tif', 'C:\\\\Users\\\\Administrateur\\\\Desktop\\\\showdown\\\\data\\\\train\\\\images\\\\00018.tif', 'C:\\\\Users\\\\Administrateur\\\\Desktop\\\\showdown\\\\data\\\\train\\\\images\\\\00020.tif', 'C:\\\\Users\\\\Administrateur\\\\Desktop\\\\showdown\\\\data\\\\train\\\\images\\\\00021.tif', 'C:\\\\Users\\\\Administrateur\\\\Desktop\\\\showdown\\\\data\\\\train\\\\images\\\\00022.tif', 'C:\\\\Users\\\\Administrateur\\\\Desktop\\\\showdown\\\\data\\\\train\\\\images\\\\00023.tif', 'C:\\\\Users\\\\Administrateur\\\\Desktop\\\\showdown\\\\data\\\\train\\\\images\\\\00032.tif', 'C:\\\\Users\\\\Administrateur\\\\Desktop\\\\showdown\\\\data\\\\train\\\\images\\\\00033.tif', 'C:\\\\Users\\\\Administrateur\\\\Desktop\\\\showdown\\\\data\\\\train\\\\images\\\\00035.tif', 'C:\\\\Users\\\\Administrateur\\\\Desktop\\\\showdown\\\\data\\\\train\\\\images\\\\00036.tif', 'C:\\\\Users\\\\Administrateur\\\\Desktop\\\\showdown\\\\data\\\\train\\\\images\\\\00039.tif', 'C:\\\\Users\\\\Administrateur\\\\Desktop\\\\showdown\\\\data\\\\train\\\\images\\\\00041.tif', 'C:\\\\Users\\\\Administrateur\\\\Desktop\\\\showdown\\\\data\\\\train\\\\images\\\\00042.tif']\n"
     ]
    }
   ],
   "source": [
    "for file in os.listdir(train_image_dir):\n",
    "    extension= os.path.splitext(file)[1]\n",
    "    if extension.lower() not in valid_image_extensions:\n",
    "        continue\n",
    "    image_path_list.append(os.path.join(train_image_dir, file))\n",
    "print(image_path_list)   \n"
   ]
  },
  {
   "cell_type": "code",
   "execution_count": 44,
   "metadata": {},
   "outputs": [],
   "source": [
    "if image_path_list is None:\n",
    "    print(\"No file in {} !\".format(train_image_dir))\n"
   ]
  },
  {
   "cell_type": "code",
   "execution_count": 45,
   "metadata": {},
   "outputs": [],
   "source": [
    "if (len(image_path_list)<150):\n",
    "    do_augmentation=True\n",
    "elif(len(image_path_list)>=150):\n",
    "        do_aumentation=input(\"Would you like to perform image Augmentation: True/False\")"
   ]
  },
  {
   "cell_type": "code",
   "execution_count": 46,
   "metadata": {},
   "outputs": [
    {
     "name": "stdout",
     "output_type": "stream",
     "text": [
      "True\n"
     ]
    }
   ],
   "source": [
    "print(do_augmentation)"
   ]
  },
  {
   "cell_type": "code",
   "execution_count": 47,
   "metadata": {},
   "outputs": [],
   "source": [
    "show_table = False\n",
    "calculated = True\n"
   ]
  },
  {
   "cell_type": "code",
   "execution_count": 48,
   "metadata": {},
   "outputs": [],
   "source": [
    "tab_images=[]\n",
    "tab_masks=[]\n"
   ]
  },
  {
   "cell_type": "code",
   "execution_count": 49,
   "metadata": {},
   "outputs": [
    {
     "name": "stdout",
     "output_type": "stream",
     "text": [
      "[]\n"
     ]
    }
   ],
   "source": [
    "print(tab_masks)"
   ]
  },
  {
   "cell_type": "code",
   "execution_count": 50,
   "metadata": {
    "scrolled": true
   },
   "outputs": [
    {
     "name": "stdout",
     "output_type": "stream",
     "text": [
      "C:\\Users\\Administrateur\\Desktop\\showdown\\data\\train\\images\\00001\n",
      " Angle 0°\n",
      " Angle 60°\n",
      " Angle 120°\n",
      " Angle 180°\n",
      " Angle 240°\n",
      " Angle 300°\n",
      "C:\\Users\\Administrateur\\Desktop\\showdown\\data\\train\\images\\00002\n",
      " Angle 0°\n",
      " Angle 60°\n",
      " Angle 120°\n",
      " Angle 180°\n",
      " Angle 240°\n",
      " Angle 300°\n",
      "C:\\Users\\Administrateur\\Desktop\\showdown\\data\\train\\images\\00003\n",
      " Angle 0°\n",
      " Angle 60°\n",
      " Angle 120°\n",
      " Angle 180°\n",
      " Angle 240°\n",
      " Angle 300°\n",
      "C:\\Users\\Administrateur\\Desktop\\showdown\\data\\train\\images\\00006\n",
      " Angle 0°\n",
      " Angle 60°\n",
      " Angle 120°\n",
      " Angle 180°\n",
      " Angle 240°\n",
      " Angle 300°\n",
      "C:\\Users\\Administrateur\\Desktop\\showdown\\data\\train\\images\\00008\n",
      " Angle 0°\n",
      " Angle 60°\n",
      " Angle 120°\n",
      " Angle 180°\n",
      " Angle 240°\n",
      " Angle 300°\n",
      "C:\\Users\\Administrateur\\Desktop\\showdown\\data\\train\\images\\00011\n",
      " Angle 0°\n",
      " Angle 60°\n",
      " Angle 120°\n",
      " Angle 180°\n",
      " Angle 240°\n",
      " Angle 300°\n",
      "C:\\Users\\Administrateur\\Desktop\\showdown\\data\\train\\images\\00012\n",
      " Angle 0°\n",
      " Angle 60°\n",
      " Angle 120°\n",
      " Angle 180°\n",
      " Angle 240°\n",
      " Angle 300°\n",
      "C:\\Users\\Administrateur\\Desktop\\showdown\\data\\train\\images\\00013\n",
      " Angle 0°\n",
      " Angle 60°\n",
      " Angle 120°\n",
      " Angle 180°\n",
      " Angle 240°\n",
      " Angle 300°\n",
      "C:\\Users\\Administrateur\\Desktop\\showdown\\data\\train\\images\\00015\n",
      " Angle 0°\n",
      " Angle 60°\n",
      " Angle 120°\n",
      " Angle 180°\n",
      " Angle 240°\n",
      " Angle 300°\n",
      "C:\\Users\\Administrateur\\Desktop\\showdown\\data\\train\\images\\00018\n",
      " Angle 0°\n",
      " Angle 60°\n",
      " Angle 120°\n",
      " Angle 180°\n",
      " Angle 240°\n",
      " Angle 300°\n",
      "C:\\Users\\Administrateur\\Desktop\\showdown\\data\\train\\images\\00020\n",
      " Angle 0°\n",
      " Angle 60°\n",
      " Angle 120°\n",
      " Angle 180°\n",
      " Angle 240°\n",
      " Angle 300°\n",
      "C:\\Users\\Administrateur\\Desktop\\showdown\\data\\train\\images\\00021\n",
      " Angle 0°\n",
      " Angle 60°\n",
      " Angle 120°\n",
      " Angle 180°\n",
      " Angle 240°\n",
      " Angle 300°\n",
      "C:\\Users\\Administrateur\\Desktop\\showdown\\data\\train\\images\\00022\n",
      " Angle 0°\n",
      " Angle 60°\n",
      " Angle 120°\n",
      " Angle 180°\n",
      " Angle 240°\n",
      " Angle 300°\n",
      "C:\\Users\\Administrateur\\Desktop\\showdown\\data\\train\\images\\00023\n",
      " Angle 0°\n",
      " Angle 60°\n",
      " Angle 120°\n",
      " Angle 180°\n",
      " Angle 240°\n",
      " Angle 300°\n",
      "C:\\Users\\Administrateur\\Desktop\\showdown\\data\\train\\images\\00032\n",
      " Angle 0°\n",
      " Angle 60°\n",
      " Angle 120°\n",
      " Angle 180°\n",
      " Angle 240°\n",
      " Angle 300°\n",
      "C:\\Users\\Administrateur\\Desktop\\showdown\\data\\train\\images\\00033\n",
      " Angle 0°\n",
      " Angle 60°\n",
      " Angle 120°\n",
      " Angle 180°\n",
      " Angle 240°\n",
      " Angle 300°\n",
      "C:\\Users\\Administrateur\\Desktop\\showdown\\data\\train\\images\\00035\n",
      " Angle 0°\n",
      " Angle 60°\n",
      " Angle 120°\n",
      " Angle 180°\n",
      " Angle 240°\n",
      " Angle 300°\n",
      "C:\\Users\\Administrateur\\Desktop\\showdown\\data\\train\\images\\00036\n",
      " Angle 0°\n",
      " Angle 60°\n",
      " Angle 120°\n",
      " Angle 180°\n",
      " Angle 240°\n",
      " Angle 300°\n",
      "C:\\Users\\Administrateur\\Desktop\\showdown\\data\\train\\images\\00039\n",
      " Angle 0°\n",
      " Angle 60°\n",
      " Angle 120°\n",
      " Angle 180°\n",
      " Angle 240°\n",
      " Angle 300°\n",
      "C:\\Users\\Administrateur\\Desktop\\showdown\\data\\train\\images\\00041\n",
      " Angle 0°\n",
      " Angle 60°\n",
      " Angle 120°\n",
      " Angle 180°\n",
      " Angle 240°\n",
      " Angle 300°\n",
      "C:\\Users\\Administrateur\\Desktop\\showdown\\data\\train\\images\\00042\n",
      " Angle 0°\n",
      " Angle 60°\n",
      " Angle 120°\n",
      " Angle 180°\n",
      " Angle 240°\n",
      " Angle 300°\n"
     ]
    }
   ],
   "source": [
    "for file in image_path_list:\n",
    "    \n",
    "    image_original=cv2.imread(file)\n",
    "    tab_images.append(image_original)\n",
    "    file_name= file.split('.')[0]\n",
    "    file_extension= file.split('.')[1]\n",
    "    print(file_name)\n",
    "    mask_address= file_name.replace('images','masks')+'.'+file_extension\n",
    "    mask_original=cv2.imread(mask_address)\n",
    "    tab_masks.append(mask_original)\n",
    "    \n",
    "    if do_augmentation:\n",
    "        for angle in range(0, 360, 60):\n",
    "            print(\" Angle {}°\".format(angle))\n",
    "            \n",
    "                \n",
    "            img_r=ip.rotateImage(image_original, angle)\n",
    "            img=img_r.copy()\n",
    "            img=ip.random_change(img)\n",
    "            tab_images.append(img)\n",
    "            img_mask=ip.rotateImage(mask_original, angle)\n",
    "                \n",
    "            tab_masks.append(img_mask)\n",
    "                \n",
    "            img=cv2.flip(img_r, 0)\n",
    "            img=ip.random_change(img)\n",
    "            tab_images.append(img)\n",
    "            img_m=cv2.flip(img_mask, 0)\n",
    "            tab_masks.append(img_m)\n",
    "        \n",
    "            img=cv2.flip(img_r, 1)\n",
    "            img=ip.random_change(img)\n",
    "            tab_images.append(img)\n",
    "            img_m=cv2.flip(img_mask, 1)\n",
    "            tab_masks.append(img_m)\n",
    "        \n",
    "            img=cv2.flip(img_r, -1)\n",
    "            img=ip.random_change(img)\n",
    "            tab_images.append(img)\n",
    "            img_m=cv2.flip(img_mask, -1)\n",
    "            tab_masks.append(img_m)"
   ]
  },
  {
   "cell_type": "code",
   "execution_count": 51,
   "metadata": {},
   "outputs": [
    {
     "data": {
      "text/plain": [
       "<matplotlib.image.AxesImage at 0x193f636f408>"
      ]
     },
     "execution_count": 51,
     "metadata": {},
     "output_type": "execute_result"
    },
    {
     "data": {
      "image/png": "[encoded data removed]",
      "text/plain": [
       "<Figure size 432x288 with 1 Axes>"
      ]
     },
     "metadata": {
      "needs_background": "light"
     },
     "output_type": "display_data"
    }
   ],
   "source": [
    "from skimage.io import imread, imshow, imread_collection, concatenate_images\n",
    "\n",
    "imshow(tab_masks[225])\n",
    "#imshow(tab_images[225])\n",
    "\n",
    "#print(tab_images)"
   ]
  },
  {
   "cell_type": "code",
   "execution_count": 52,
   "metadata": {},
   "outputs": [],
   "source": [
    "if show_table == True:\n",
    "    for id in range(len(tab_masks)):\n",
    "        print(id)\n",
    "        cv2.imshow('imageOpen',tab_images[id])\n",
    "        cv2.imshow('maskOpen',tab_masks[id])\n",
    "        cv2.waitKey(0)\n"
   ]
  },
  {
   "cell_type": "code",
   "execution_count": 53,
   "metadata": {},
   "outputs": [
    {
     "data": {
      "text/plain": [
       "'if calculated == True :\\n    tab_images=np.array(tab_images, dtype=np.float32)/255\\n    tab_masks =np.array(tab_masks,  dtype=np.float32)[:, :, :]/255\\n    \\n    train_images, test_images, train_masks, test_masks=train_test_split(tab_images, tab_masks, test_size=0.05)\\n    \\n    #del tab_images\\n    #del tab_masks'"
      ]
     },
     "execution_count": 53,
     "metadata": {},
     "output_type": "execute_result"
    }
   ],
   "source": [
    "'''if calculated == True :\n",
    "    tab_images=np.array(tab_images, dtype=np.float32)/255\n",
    "    tab_masks =np.array(tab_masks,  dtype=np.float32)[:, :, :]/255\n",
    "    \n",
    "    train_images, test_images, train_masks, test_masks=train_test_split(tab_images, tab_masks, test_size=0.05)\n",
    "    \n",
    "    #del tab_images\n",
    "    #del tab_masks'''"
   ]
  },
  {
   "cell_type": "code",
   "execution_count": 54,
   "metadata": {},
   "outputs": [],
   "source": [
    "if calculated == True :\n",
    "    tab_images=np.ndarray((len(tab_images),len(tab_images[1]),len(tab_images[2]),3), dtype=np.uint8)/255\n",
    "    tab_masks =np.ndarray((len(tab_masks),len(tab_masks[1]),len(tab_masks[2]),3), dtype=np.uint8)/255\n",
    "    \n",
    "    #train_images, test_images, train_masks, test_masks=train_test_split(tab_images, tab_masks, test_size=0.2)\n",
    "    \n",
    "    #del tab_images\n",
    "    #del tab_masks\n",
    "   "
   ]
  },
  {
   "cell_type": "code",
   "execution_count": 55,
   "metadata": {},
   "outputs": [
    {
     "name": "stdout",
     "output_type": "stream",
     "text": [
      "(525, 512, 512, 3)\n"
     ]
    }
   ],
   "source": [
    "print((tab_images.shape))"
   ]
  },
  {
   "cell_type": "code",
   "execution_count": 56,
   "metadata": {},
   "outputs": [],
   "source": [
    "my_model = unet.model(64,512,512)"
   ]
  },
  {
   "cell_type": "code",
   "execution_count": 57,
   "metadata": {
    "scrolled": false
   },
   "outputs": [],
   "source": [
    "\n",
    "my_model.compile(optimizer='adam',\n",
    "                     loss='binary_crossentropy',\n",
    "                     metrics=['accuracy'])\n"
   ]
  },
  {
   "cell_type": "code",
   "execution_count": 58,
   "metadata": {
    "scrolled": false
   },
   "outputs": [
    {
     "name": "stdout",
     "output_type": "stream",
     "text": [
      "Train on 420 samples, validate on 105 samples\n",
      "Epoch 1/4\n",
      "420/420 [==============================] - 3269s 8s/sample - loss: 0.3747 - accuracy: 1.0000\n"
     ]
    },
    {
     "ename": "KeyboardInterrupt",
     "evalue": "",
     "output_type": "error",
     "traceback": [
      "\u001b[1;31m---------------------------------------------------------------------------\u001b[0m",
      "\u001b[1;31mKeyboardInterrupt\u001b[0m                         Traceback (most recent call last)",
      "\u001b[1;32m<ipython-input-58-1e2dc5ab4c01>\u001b[0m in \u001b[0;36m<module>\u001b[1;34m\u001b[0m\n\u001b[0;32m      4\u001b[0m              \u001b[0mbatch_size\u001b[0m\u001b[1;33m=\u001b[0m\u001b[1;36m3\u001b[0m\u001b[1;33m,\u001b[0m\u001b[1;33m\u001b[0m\u001b[1;33m\u001b[0m\u001b[0m\n\u001b[0;32m      5\u001b[0m              \u001b[0mvalidation_split\u001b[0m\u001b[1;33m=\u001b[0m\u001b[1;36m0.2\u001b[0m\u001b[1;33m,\u001b[0m\u001b[1;33m\u001b[0m\u001b[1;33m\u001b[0m\u001b[0m\n\u001b[1;32m----> 6\u001b[1;33m              shuffle= True)\n\u001b[0m",
      "\u001b[1;32mC:\\ProgramData\\Anaconda3\\envs\\tensorflow_env\\lib\\site-packages\\tensorflow_core\\python\\keras\\engine\\training.py\u001b[0m in \u001b[0;36mfit\u001b[1;34m(self, x, y, batch_size, epochs, verbose, callbacks, validation_split, validation_data, shuffle, class_weight, sample_weight, initial_epoch, steps_per_epoch, validation_steps, validation_freq, max_queue_size, workers, use_multiprocessing, **kwargs)\u001b[0m\n\u001b[0;32m    817\u001b[0m         \u001b[0mmax_queue_size\u001b[0m\u001b[1;33m=\u001b[0m\u001b[0mmax_queue_size\u001b[0m\u001b[1;33m,\u001b[0m\u001b[1;33m\u001b[0m\u001b[1;33m\u001b[0m\u001b[0m\n\u001b[0;32m    818\u001b[0m         \u001b[0mworkers\u001b[0m\u001b[1;33m=\u001b[0m\u001b[0mworkers\u001b[0m\u001b[1;33m,\u001b[0m\u001b[1;33m\u001b[0m\u001b[1;33m\u001b[0m\u001b[0m\n\u001b[1;32m--> 819\u001b[1;33m         use_multiprocessing=use_multiprocessing)\n\u001b[0m\u001b[0;32m    820\u001b[0m \u001b[1;33m\u001b[0m\u001b[0m\n\u001b[0;32m    821\u001b[0m   def evaluate(self,\n",
      "\u001b[1;32mC:\\ProgramData\\Anaconda3\\envs\\tensorflow_env\\lib\\site-packages\\tensorflow_core\\python\\keras\\engine\\training_v2.py\u001b[0m in \u001b[0;36mfit\u001b[1;34m(self, model, x, y, batch_size, epochs, verbose, callbacks, validation_split, validation_data, shuffle, class_weight, sample_weight, initial_epoch, steps_per_epoch, validation_steps, validation_freq, max_queue_size, workers, use_multiprocessing, **kwargs)\u001b[0m\n\u001b[0;32m    393\u001b[0m                       \u001b[0mmode\u001b[0m\u001b[1;33m=\u001b[0m\u001b[0mModeKeys\u001b[0m\u001b[1;33m.\u001b[0m\u001b[0mTEST\u001b[0m\u001b[1;33m,\u001b[0m\u001b[1;33m\u001b[0m\u001b[1;33m\u001b[0m\u001b[0m\n\u001b[0;32m    394\u001b[0m                       \u001b[0mtraining_context\u001b[0m\u001b[1;33m=\u001b[0m\u001b[0meval_context\u001b[0m\u001b[1;33m,\u001b[0m\u001b[1;33m\u001b[0m\u001b[1;33m\u001b[0m\u001b[0m\n\u001b[1;32m--> 395\u001b[1;33m                       total_epochs=1)\n\u001b[0m\u001b[0;32m    396\u001b[0m                   cbks.make_logs(model, epoch_logs, eval_result, ModeKeys.TEST,\n\u001b[0;32m    397\u001b[0m                                  prefix='val_')\n",
      "\u001b[1;32mC:\\ProgramData\\Anaconda3\\envs\\tensorflow_env\\lib\\site-packages\\tensorflow_core\\python\\keras\\engine\\training_v2.py\u001b[0m in \u001b[0;36mrun_one_epoch\u001b[1;34m(model, iterator, execution_function, dataset_size, batch_size, strategy, steps_per_epoch, num_samples, mode, training_context, total_epochs)\u001b[0m\n\u001b[0;32m    126\u001b[0m         step=step, mode=mode, size=current_batch_size) as batch_logs:\n\u001b[0;32m    127\u001b[0m       \u001b[1;32mtry\u001b[0m\u001b[1;33m:\u001b[0m\u001b[1;33m\u001b[0m\u001b[1;33m\u001b[0m\u001b[0m\n\u001b[1;32m--> 128\u001b[1;33m         \u001b[0mbatch_outs\u001b[0m \u001b[1;33m=\u001b[0m \u001b[0mexecution_function\u001b[0m\u001b[1;33m(\u001b[0m\u001b[0miterator\u001b[0m\u001b[1;33m)\u001b[0m\u001b[1;33m\u001b[0m\u001b[1;33m\u001b[0m\u001b[0m\n\u001b[0m\u001b[0;32m    129\u001b[0m       \u001b[1;32mexcept\u001b[0m \u001b[1;33m(\u001b[0m\u001b[0mStopIteration\u001b[0m\u001b[1;33m,\u001b[0m \u001b[0merrors\u001b[0m\u001b[1;33m.\u001b[0m\u001b[0mOutOfRangeError\u001b[0m\u001b[1;33m)\u001b[0m\u001b[1;33m:\u001b[0m\u001b[1;33m\u001b[0m\u001b[1;33m\u001b[0m\u001b[0m\n\u001b[0;32m    130\u001b[0m         \u001b[1;31m# TODO(kaftan): File bug about tf function and errors.OutOfRangeError?\u001b[0m\u001b[1;33m\u001b[0m\u001b[1;33m\u001b[0m\u001b[1;33m\u001b[0m\u001b[0m\n",
      "\u001b[1;32mC:\\ProgramData\\Anaconda3\\envs\\tensorflow_env\\lib\\site-packages\\tensorflow_core\\python\\keras\\engine\\training_v2_utils.py\u001b[0m in \u001b[0;36mexecution_function\u001b[1;34m(input_fn)\u001b[0m\n\u001b[0;32m     96\u001b[0m     \u001b[1;31m# `numpy` translates Tensors to values in Eager mode.\u001b[0m\u001b[1;33m\u001b[0m\u001b[1;33m\u001b[0m\u001b[1;33m\u001b[0m\u001b[0m\n\u001b[0;32m     97\u001b[0m     return nest.map_structure(_non_none_constant_value,\n\u001b[1;32m---> 98\u001b[1;33m                               distributed_function(input_fn))\n\u001b[0m\u001b[0;32m     99\u001b[0m \u001b[1;33m\u001b[0m\u001b[0m\n\u001b[0;32m    100\u001b[0m   \u001b[1;32mreturn\u001b[0m \u001b[0mexecution_function\u001b[0m\u001b[1;33m\u001b[0m\u001b[1;33m\u001b[0m\u001b[0m\n",
      "\u001b[1;32mC:\\ProgramData\\Anaconda3\\envs\\tensorflow_env\\lib\\site-packages\\tensorflow_core\\python\\eager\\def_function.py\u001b[0m in \u001b[0;36m__call__\u001b[1;34m(self, *args, **kwds)\u001b[0m\n\u001b[0;32m    566\u001b[0m         \u001b[0mxla_context\u001b[0m\u001b[1;33m.\u001b[0m\u001b[0mExit\u001b[0m\u001b[1;33m(\u001b[0m\u001b[1;33m)\u001b[0m\u001b[1;33m\u001b[0m\u001b[1;33m\u001b[0m\u001b[0m\n\u001b[0;32m    567\u001b[0m     \u001b[1;32melse\u001b[0m\u001b[1;33m:\u001b[0m\u001b[1;33m\u001b[0m\u001b[1;33m\u001b[0m\u001b[0m\n\u001b[1;32m--> 568\u001b[1;33m       \u001b[0mresult\u001b[0m \u001b[1;33m=\u001b[0m \u001b[0mself\u001b[0m\u001b[1;33m.\u001b[0m\u001b[0m_call\u001b[0m\u001b[1;33m(\u001b[0m\u001b[1;33m*\u001b[0m\u001b[0margs\u001b[0m\u001b[1;33m,\u001b[0m \u001b[1;33m**\u001b[0m\u001b[0mkwds\u001b[0m\u001b[1;33m)\u001b[0m\u001b[1;33m\u001b[0m\u001b[1;33m\u001b[0m\u001b[0m\n\u001b[0m\u001b[0;32m    569\u001b[0m \u001b[1;33m\u001b[0m\u001b[0m\n\u001b[0;32m    570\u001b[0m     \u001b[1;32mif\u001b[0m \u001b[0mtracing_count\u001b[0m \u001b[1;33m==\u001b[0m \u001b[0mself\u001b[0m\u001b[1;33m.\u001b[0m\u001b[0m_get_tracing_count\u001b[0m\u001b[1;33m(\u001b[0m\u001b[1;33m)\u001b[0m\u001b[1;33m:\u001b[0m\u001b[1;33m\u001b[0m\u001b[1;33m\u001b[0m\u001b[0m\n",
      "\u001b[1;32mC:\\ProgramData\\Anaconda3\\envs\\tensorflow_env\\lib\\site-packages\\tensorflow_core\\python\\eager\\def_function.py\u001b[0m in \u001b[0;36m_call\u001b[1;34m(self, *args, **kwds)\u001b[0m\n\u001b[0;32m    604\u001b[0m       \u001b[1;31m# In this case we have not created variables on the first call. So we can\u001b[0m\u001b[1;33m\u001b[0m\u001b[1;33m\u001b[0m\u001b[1;33m\u001b[0m\u001b[0m\n\u001b[0;32m    605\u001b[0m       \u001b[1;31m# run the first trace but we should fail if variables are created.\u001b[0m\u001b[1;33m\u001b[0m\u001b[1;33m\u001b[0m\u001b[1;33m\u001b[0m\u001b[0m\n\u001b[1;32m--> 606\u001b[1;33m       \u001b[0mresults\u001b[0m \u001b[1;33m=\u001b[0m \u001b[0mself\u001b[0m\u001b[1;33m.\u001b[0m\u001b[0m_stateful_fn\u001b[0m\u001b[1;33m(\u001b[0m\u001b[1;33m*\u001b[0m\u001b[0margs\u001b[0m\u001b[1;33m,\u001b[0m \u001b[1;33m**\u001b[0m\u001b[0mkwds\u001b[0m\u001b[1;33m)\u001b[0m\u001b[1;33m\u001b[0m\u001b[1;33m\u001b[0m\u001b[0m\n\u001b[0m\u001b[0;32m    607\u001b[0m       \u001b[1;32mif\u001b[0m \u001b[0mself\u001b[0m\u001b[1;33m.\u001b[0m\u001b[0m_created_variables\u001b[0m\u001b[1;33m:\u001b[0m\u001b[1;33m\u001b[0m\u001b[1;33m\u001b[0m\u001b[0m\n\u001b[0;32m    608\u001b[0m         raise ValueError(\"Creating variables on a non-first call to a function\"\n",
      "\u001b[1;32mC:\\ProgramData\\Anaconda3\\envs\\tensorflow_env\\lib\\site-packages\\tensorflow_core\\python\\eager\\function.py\u001b[0m in \u001b[0;36m__call__\u001b[1;34m(self, *args, **kwargs)\u001b[0m\n\u001b[0;32m   2361\u001b[0m     \u001b[1;32mwith\u001b[0m \u001b[0mself\u001b[0m\u001b[1;33m.\u001b[0m\u001b[0m_lock\u001b[0m\u001b[1;33m:\u001b[0m\u001b[1;33m\u001b[0m\u001b[1;33m\u001b[0m\u001b[0m\n\u001b[0;32m   2362\u001b[0m       \u001b[0mgraph_function\u001b[0m\u001b[1;33m,\u001b[0m \u001b[0margs\u001b[0m\u001b[1;33m,\u001b[0m \u001b[0mkwargs\u001b[0m \u001b[1;33m=\u001b[0m \u001b[0mself\u001b[0m\u001b[1;33m.\u001b[0m\u001b[0m_maybe_define_function\u001b[0m\u001b[1;33m(\u001b[0m\u001b[0margs\u001b[0m\u001b[1;33m,\u001b[0m \u001b[0mkwargs\u001b[0m\u001b[1;33m)\u001b[0m\u001b[1;33m\u001b[0m\u001b[1;33m\u001b[0m\u001b[0m\n\u001b[1;32m-> 2363\u001b[1;33m     \u001b[1;32mreturn\u001b[0m \u001b[0mgraph_function\u001b[0m\u001b[1;33m.\u001b[0m\u001b[0m_filtered_call\u001b[0m\u001b[1;33m(\u001b[0m\u001b[0margs\u001b[0m\u001b[1;33m,\u001b[0m \u001b[0mkwargs\u001b[0m\u001b[1;33m)\u001b[0m  \u001b[1;31m# pylint: disable=protected-access\u001b[0m\u001b[1;33m\u001b[0m\u001b[1;33m\u001b[0m\u001b[0m\n\u001b[0m\u001b[0;32m   2364\u001b[0m \u001b[1;33m\u001b[0m\u001b[0m\n\u001b[0;32m   2365\u001b[0m   \u001b[1;33m@\u001b[0m\u001b[0mproperty\u001b[0m\u001b[1;33m\u001b[0m\u001b[1;33m\u001b[0m\u001b[0m\n",
      "\u001b[1;32mC:\\ProgramData\\Anaconda3\\envs\\tensorflow_env\\lib\\site-packages\\tensorflow_core\\python\\eager\\function.py\u001b[0m in \u001b[0;36m_filtered_call\u001b[1;34m(self, args, kwargs)\u001b[0m\n\u001b[0;32m   1609\u001b[0m          if isinstance(t, (ops.Tensor,\n\u001b[0;32m   1610\u001b[0m                            resource_variable_ops.BaseResourceVariable))),\n\u001b[1;32m-> 1611\u001b[1;33m         self.captured_inputs)\n\u001b[0m\u001b[0;32m   1612\u001b[0m \u001b[1;33m\u001b[0m\u001b[0m\n\u001b[0;32m   1613\u001b[0m   \u001b[1;32mdef\u001b[0m \u001b[0m_call_flat\u001b[0m\u001b[1;33m(\u001b[0m\u001b[0mself\u001b[0m\u001b[1;33m,\u001b[0m \u001b[0margs\u001b[0m\u001b[1;33m,\u001b[0m \u001b[0mcaptured_inputs\u001b[0m\u001b[1;33m,\u001b[0m \u001b[0mcancellation_manager\u001b[0m\u001b[1;33m=\u001b[0m\u001b[1;32mNone\u001b[0m\u001b[1;33m)\u001b[0m\u001b[1;33m:\u001b[0m\u001b[1;33m\u001b[0m\u001b[1;33m\u001b[0m\u001b[0m\n",
      "\u001b[1;32mC:\\ProgramData\\Anaconda3\\envs\\tensorflow_env\\lib\\site-packages\\tensorflow_core\\python\\eager\\function.py\u001b[0m in \u001b[0;36m_call_flat\u001b[1;34m(self, args, captured_inputs, cancellation_manager)\u001b[0m\n\u001b[0;32m   1690\u001b[0m       \u001b[1;31m# No tape is watching; skip to running the function.\u001b[0m\u001b[1;33m\u001b[0m\u001b[1;33m\u001b[0m\u001b[1;33m\u001b[0m\u001b[0m\n\u001b[0;32m   1691\u001b[0m       return self._build_call_outputs(self._inference_function.call(\n\u001b[1;32m-> 1692\u001b[1;33m           ctx, args, cancellation_manager=cancellation_manager))\n\u001b[0m\u001b[0;32m   1693\u001b[0m     forward_backward = self._select_forward_and_backward_functions(\n\u001b[0;32m   1694\u001b[0m         \u001b[0margs\u001b[0m\u001b[1;33m,\u001b[0m\u001b[1;33m\u001b[0m\u001b[1;33m\u001b[0m\u001b[0m\n",
      "\u001b[1;32mC:\\ProgramData\\Anaconda3\\envs\\tensorflow_env\\lib\\site-packages\\tensorflow_core\\python\\eager\\function.py\u001b[0m in \u001b[0;36mcall\u001b[1;34m(self, ctx, args, cancellation_manager)\u001b[0m\n\u001b[0;32m    543\u001b[0m               \u001b[0minputs\u001b[0m\u001b[1;33m=\u001b[0m\u001b[0margs\u001b[0m\u001b[1;33m,\u001b[0m\u001b[1;33m\u001b[0m\u001b[1;33m\u001b[0m\u001b[0m\n\u001b[0;32m    544\u001b[0m               \u001b[0mattrs\u001b[0m\u001b[1;33m=\u001b[0m\u001b[1;33m(\u001b[0m\u001b[1;34m\"executor_type\"\u001b[0m\u001b[1;33m,\u001b[0m \u001b[0mexecutor_type\u001b[0m\u001b[1;33m,\u001b[0m \u001b[1;34m\"config_proto\"\u001b[0m\u001b[1;33m,\u001b[0m \u001b[0mconfig\u001b[0m\u001b[1;33m)\u001b[0m\u001b[1;33m,\u001b[0m\u001b[1;33m\u001b[0m\u001b[1;33m\u001b[0m\u001b[0m\n\u001b[1;32m--> 545\u001b[1;33m               ctx=ctx)\n\u001b[0m\u001b[0;32m    546\u001b[0m         \u001b[1;32melse\u001b[0m\u001b[1;33m:\u001b[0m\u001b[1;33m\u001b[0m\u001b[1;33m\u001b[0m\u001b[0m\n\u001b[0;32m    547\u001b[0m           outputs = execute.execute_with_cancellation(\n",
      "\u001b[1;32mC:\\ProgramData\\Anaconda3\\envs\\tensorflow_env\\lib\\site-packages\\tensorflow_core\\python\\eager\\execute.py\u001b[0m in \u001b[0;36mquick_execute\u001b[1;34m(op_name, num_outputs, inputs, attrs, ctx, name)\u001b[0m\n\u001b[0;32m     59\u001b[0m     tensors = pywrap_tensorflow.TFE_Py_Execute(ctx._handle, device_name,\n\u001b[0;32m     60\u001b[0m                                                \u001b[0mop_name\u001b[0m\u001b[1;33m,\u001b[0m \u001b[0minputs\u001b[0m\u001b[1;33m,\u001b[0m \u001b[0mattrs\u001b[0m\u001b[1;33m,\u001b[0m\u001b[1;33m\u001b[0m\u001b[1;33m\u001b[0m\u001b[0m\n\u001b[1;32m---> 61\u001b[1;33m                                                num_outputs)\n\u001b[0m\u001b[0;32m     62\u001b[0m   \u001b[1;32mexcept\u001b[0m \u001b[0mcore\u001b[0m\u001b[1;33m.\u001b[0m\u001b[0m_NotOkStatusException\u001b[0m \u001b[1;32mas\u001b[0m \u001b[0me\u001b[0m\u001b[1;33m:\u001b[0m\u001b[1;33m\u001b[0m\u001b[1;33m\u001b[0m\u001b[0m\n\u001b[0;32m     63\u001b[0m     \u001b[1;32mif\u001b[0m \u001b[0mname\u001b[0m \u001b[1;32mis\u001b[0m \u001b[1;32mnot\u001b[0m \u001b[1;32mNone\u001b[0m\u001b[1;33m:\u001b[0m\u001b[1;33m\u001b[0m\u001b[1;33m\u001b[0m\u001b[0m\n",
      "\u001b[1;31mKeyboardInterrupt\u001b[0m: "
     ]
    }
   ],
   "source": [
    "my_model.fit(tab_images,\n",
    "             tab_masks,\n",
    "             epochs=4,\n",
    "             batch_size=3,\n",
    "             validation_split=0.2,\n",
    "             shuffle= True)\n"
   ]
  },
  {
   "cell_type": "code",
   "execution_count": null,
   "metadata": {},
   "outputs": [],
   "source": [
    "#models.save_model(my_model,'.\\models\\cell-missmarple')"
   ]
  },
  {
   "cell_type": "code",
   "execution_count": null,
   "metadata": {},
   "outputs": [],
   "source": [
    "dir_test_images='C:\\\\Users\\\\Administrateur\\\\Desktop\\\\showdown\\\\New_folder\\\\data\\\\test\\\\images\\\\'"
   ]
  },
  {
   "cell_type": "code",
   "execution_count": null,
   "metadata": {},
   "outputs": [],
   "source": [
    "print(dir_test_images)"
   ]
  },
  {
   "cell_type": "code",
   "execution_count": null,
   "metadata": {},
   "outputs": [],
   "source": [
    "test_image_path_list=[]"
   ]
  },
  {
   "cell_type": "code",
   "execution_count": null,
   "metadata": {},
   "outputs": [],
   "source": [
    "for file in os.listdir(dir_test_images):\n",
    "    extension= os.path.splitext(file)[1]\n",
    "    if extension.lower() not in valid_image_extensions:\n",
    "         continue\n",
    "    test_image_path_list.append(os.path.join(dir_test_images, file))\n",
    "print(test_image_path_list)   \n"
   ]
  },
  {
   "cell_type": "code",
   "execution_count": null,
   "metadata": {},
   "outputs": [],
   "source": [
    "tab_test_images=[]\n",
    "tab_files=[]\n",
    "for fichier in os.listdir(dir_test_images):\n",
    "    if fichier.split('.')[1] == 'tif':\n",
    "        img=cv2.imread(dir_test_images+fichier)\n",
    "        tab_test_images.append(img)\n",
    "        tab_files.append(fichier.split('_')[0])\n",
    "\n",
    "tab_test_images=np.array(tab_test_images, dtype=np.float32)/255\n",
    "tab_files=np.array(tab_files)\n",
    "\n",
    "for id in range(len(tab_test_images)):\n",
    "    mask=np.zeros((512, 512, 1), dtype=np.float32)\n",
    "    prediction=my_model.predict(np.array([tab_test_images[id]]))\n",
    "    mask=prediction[0]*255\n",
    "    cv2.imwrite(\"C:\\\\Users\\\\Administrateur\\\\Desktop\\\\showdown\\\\data\\\\test\\\\predictions\\\\\"+str(tab_files[id])+\".png\", mask)"
   ]
  },
  {
   "cell_type": "code",
   "execution_count": null,
   "metadata": {},
   "outputs": [],
   "source": [
    "#del tab_test_images\n",
    "#del tab_files"
   ]
  },
  {
   "cell_type": "code",
   "execution_count": null,
   "metadata": {},
   "outputs": [],
   "source": [
    "for file in os.listdir(dir_test_images):\n",
    "    if file.split('.')[1] == 'png':\n",
    "        img=cv2.imread(dir_test_images+file)\n",
    "        tab_files.append(img)\n",
    "        tab_files.append(file.split('_')[0])\n",
    "\n"
   ]
  },
  {
   "cell_type": "code",
   "execution_count": null,
   "metadata": {},
   "outputs": [],
   "source": [
    "tab_files"
   ]
  },
  {
   "cell_type": "code",
   "execution_count": null,
   "metadata": {},
   "outputs": [],
   "source": [
    "len(tab_test_images[2])"
   ]
  },
  {
   "cell_type": "code",
   "execution_count": null,
   "metadata": {},
   "outputs": [],
   "source": [
    "tab_files"
   ]
  },
  {
   "cell_type": "code",
   "execution_count": null,
   "metadata": {},
   "outputs": [],
   "source": [
    "#tab_test_images=np.ndarray((len(tab_files),len(tab_files[1]),len(tab_files[2]),3), dtype=np.uint8)/255\n",
    "tab_files=np.ndarray((len(tab_files),len(tab_files[1]),len(tab_files[2]),3), dtype=np.uint8)/255\n",
    "tab_masks =np.ndarray((len(tab_files),len(tab_files[1]),len(tab_files[2]),3), dtype=np.uint8)/255\n"
   ]
  },
  {
   "cell_type": "code",
   "execution_count": null,
   "metadata": {},
   "outputs": [],
   "source": [
    "for id in range(len(tab_test_images)):\n",
    "    mask=np.zeros((512, 512, 1), dtype=np.float32)\n",
    "    #print(tab_test_images[id])\n",
    "    prediction=my_model.predict(np.array([tab_test_images[id]]),verbose=1)\n",
    "    mask=prediction[0]*255\n",
    "    tab_masks.append(mask)\n",
    "    #cv2.imshow('maskOpen',mask)\n",
    "    cv2.imwrite(\"C:\\\\Users\\\\Administrateur\\\\Desktop\\\\DATA_Final\\\\processed\\\\DeLTA_data\\\\yeast\\\\evaluation\\\\seg_output\\\\\"+str(tab_files[id])+\".png\", mask)"
   ]
  },
  {
   "cell_type": "code",
   "execution_count": null,
   "metadata": {},
   "outputs": [],
   "source": [
    "print (tab_test_masks)"
   ]
  },
  {
   "cell_type": "code",
   "execution_count": null,
   "metadata": {},
   "outputs": [],
   "source": [
    "cv2.imwrite(\"C:\\\\Users\\\\Administrateur\\\\Desktop\\\\showdown\\\\data\\test\\\\predictions\\\\\"+\".png\", tab_test_masks[0])"
   ]
  },
  {
   "cell_type": "code",
   "execution_count": null,
   "metadata": {},
   "outputs": [],
   "source": []
  },
  {
   "cell_type": "code",
   "execution_count": null,
   "metadata": {},
   "outputs": [],
   "source": []
  }
 ],
 "metadata": {
  "kernelspec": {
   "display_name": "Python 3",
   "language": "python",
   "name": "python3"
  },
  "language_info": {
   "codemirror_mode": {
    "name": "ipython",
    "version": 3
   },
   "file_extension": ".py",
   "mimetype": "text/x-python",
   "name": "python",
   "nbconvert_exporter": "python",
   "pygments_lexer": "ipython3",
   "version": "3.7.7"
  }
 },
 "nbformat": 4,
 "nbformat_minor": 4
}

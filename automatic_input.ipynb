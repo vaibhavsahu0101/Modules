{
 "cells": [
  {
   "cell_type": "code",
   "execution_count": 1,
   "metadata": {},
   "outputs": [],
   "source": [
    "# This code is detecting new files in the output library of the microscope"
   ]
  },
  {
   "cell_type": "code",
   "execution_count": 2,
   "metadata": {},
   "outputs": [
    {
     "name": "stdout",
     "output_type": "stream",
     "text": [
      "Collecting watchdog\n",
      "  Downloading watchdog-0.10.2.tar.gz (95 kB)\n",
      "Collecting pathtools>=0.1.1\n",
      "  Downloading pathtools-0.1.2.tar.gz (11 kB)\n",
      "Note: you may need to restart the kernel to use updated packages.Building wheels for collected packages: watchdog, pathtools\n",
      "  Building wheel for watchdog (setup.py): started\n",
      "  Building wheel for watchdog (setup.py): finished with status 'done'\n",
      "  Created wheel for watchdog: filename=watchdog-0.10.2-py3-none-any.whl size=73609 sha256=ebc0ae7df275430ffdb41fa2969e3203d62c74fdcf73aef88702771903fb6d9e\n",
      "  Stored in directory: c:\\users\\administrateur\\appdata\\local\\pip\\cache\\wheels\\25\\94\\87\\c9e81967b98f25a0c0064f42ce71d494c9df4164f613ccee92\n",
      "  Building wheel for pathtools (setup.py): started\n",
      "  Building wheel for pathtools (setup.py): finished with status 'done'\n",
      "  Created wheel for pathtools: filename=pathtools-0.1.2-py3-none-any.whl size=8790 sha256=3eadd630026adbb2e88a908978c2c557f25e47c7de17cf7c64d07bd3b680d30a\n",
      "\n",
      "  Stored in directory: c:\\users\\administrateur\\appdata\\local\\pip\\cache\\wheels\\42\\ea\\90\\e37d463fb3b03848bf715080595de62545266f53dd546b2497\n",
      "Successfully built watchdog pathtools\n",
      "Installing collected packages: pathtools, watchdog\n",
      "Successfully installed pathtools-0.1.2 watchdog-0.10.2\n"
     ]
    }
   ],
   "source": [
    "pip install watchdog"
   ]
  },
  {
   "cell_type": "code",
   "execution_count": 7,
   "metadata": {},
   "outputs": [],
   "source": [
    "import os\n",
    "import shutil\n",
    "import glob\n",
    "\n",
    "from watchdog.observers import Observer\n",
    "from watchdog.events import FileSystemEventHandler"
   ]
  },
  {
   "cell_type": "code",
   "execution_count": null,
   "metadata": {},
   "outputs": [],
   "source": [
    "class ImageHandler(FileSystemEventHandler):\n",
    "    def on_created(self,event):\n",
    "        self.process(event)\n",
    "    \n",
    "    def process(self,event):\n",
    "        shutil.copy(src, dst, *, follow_symlinks=True)\n",
    "        "
   ]
  },
  {
   "cell_type": "code",
   "execution_count": null,
   "metadata": {},
   "outputs": [],
   "source": [
    "src=#ener source directory path\n",
    "dst=#enter dst directory path"
   ]
  }
 ],
 "metadata": {
  "kernelspec": {
   "display_name": "Python 3",
   "language": "python",
   "name": "python3"
  },
  "language_info": {
   "codemirror_mode": {
    "name": "ipython",
    "version": 3
   },
   "file_extension": ".py",
   "mimetype": "text/x-python",
   "name": "python",
   "nbconvert_exporter": "python",
   "pygments_lexer": "ipython3",
   "version": "3.6.10"
  }
 },
 "nbformat": 4,
 "nbformat_minor": 4
}
